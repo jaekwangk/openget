{
 "cells": [
  {
   "cell_type": "code",
   "execution_count": 4,
   "metadata": {},
   "outputs": [],
   "source": [
    "import tensorflow as tf\n",
    "import pandas as pd\n",
    "\n",
    "#tf.debugging.set_log_device_placement(True)\n",
    "\n",
    "physical_devices = tf.config.list_physical_devices('GPU') \n",
    "tf.config.experimental.set_memory_growth(physical_devices[0], True)"
   ]
  },
  {
   "cell_type": "code",
   "execution_count": 5,
   "metadata": {},
   "outputs": [
    {
     "name": "stdout",
     "output_type": "stream",
     "text": [
      "<class 'pandas.core.frame.DataFrame'>\n"
     ]
    }
   ],
   "source": [
    "match_data = pd.read_csv('D:/riot/match/with_bibigo.csv')\n",
    "match_data = match_data.sample(n = 120000, replace=False)\n",
    "match_data = pd.get_dummies(match_data) #원핫\n",
    "index = list(match_data.columns)\n",
    "test = match_data.sample(frac=0.3, replace=False)\n",
    "del index[0] #team1_win 빼기, 버전들은 원핫으로 뒤로 날아감\n",
    "#print(index)\n",
    "#print(match_data.head(1))\n",
    "independent = match_data[index]\n",
    "dependent = match_data[['team1_win']]\n",
    "independent_test = test[index]\n",
    "dependent_test = test[['team1_win']]\n",
    "# print(독립_train)\n",
    "# print(독립_test)\n",
    "print(type(independent_test))"
   ]
  },
  {
   "cell_type": "code",
   "execution_count": 6,
   "metadata": {},
   "outputs": [
    {
     "name": "stdout",
     "output_type": "stream",
     "text": [
      "        team1_win\n",
      "124524          0\n",
      "295266          1\n",
      "499973          1\n",
      "224898          0\n",
      "580616          1\n",
      "...           ...\n",
      "136106          1\n",
      "789455          1\n",
      "348175          0\n",
      "367277          1\n",
      "534378          0\n",
      "\n",
      "[36000 rows x 1 columns]\n",
      "(120000, 344)\n"
     ]
    }
   ],
   "source": [
    "print(dependent_test) \n",
    "print(independent.shape)"
   ]
  },
  {
   "cell_type": "code",
   "execution_count": 9,
   "metadata": {},
   "outputs": [],
   "source": [
    "X = tf.keras.layers.Input(shape=[344])\n",
    "H = tf.keras.layers.Dense(800)(X)\n",
    "H = tf.keras.layers.BatchNormalization()(H)\n",
    "H = tf.keras.layers.Activation('swish')(H)\n",
    "H = tf.keras.layers.Dense(1000)(H)\n",
    "H = tf.keras.layers.BatchNormalization()(H)\n",
    "H = tf.keras.layers.Activation('swish')(H)\n",
    "H = tf.keras.layers.Dense(500)(H)\n",
    "H = tf.keras.layers.BatchNormalization()(H)\n",
    "H = tf.keras.layers.Activation('swish')(H)\n",
    "H = tf.keras.layers.Dense(500)(H)\n",
    "H = tf.keras.layers.BatchNormalization()(H)\n",
    "H = tf.keras.layers.Activation('swish')(H)\n",
    "H = tf.keras.layers.Dense(300)(H)\n",
    "# H = tf.keras.layers.BatchNormalization()(H)\n",
    "H = tf.keras.layers.Activation('swish')(H)\n",
    "Y = tf.keras.layers.Dense(1)(H)\n",
    "model = tf.keras.models.Model(X, Y)\n",
    "model.compile(loss='mse',\n",
    "              metrics='accuracy')"
   ]
  },
  {
   "cell_type": "code",
   "execution_count": 10,
   "metadata": {
    "scrolled": true
   },
   "outputs": [
    {
     "name": "stdout",
     "output_type": "stream",
     "text": [
      "Epoch 1/10\n",
      "3750/3750 [==============================] - 122s 32ms/step - loss: 0.3091 - accuracy: 0.5384 - val_loss: 0.2371 - val_accuracy: 0.5960\n",
      "Epoch 2/10\n",
      "3750/3750 [==============================] - 121s 32ms/step - loss: 0.2408 - accuracy: 0.5826 - val_loss: 0.2361 - val_accuracy: 0.6018\n",
      "Epoch 3/10\n",
      "3750/3750 [==============================] - 121s 32ms/step - loss: 0.2380 - accuracy: 0.5921 - val_loss: 0.2341 - val_accuracy: 0.6067\n",
      "Epoch 4/10\n",
      "3750/3750 [==============================] - 121s 32ms/step - loss: 0.2355 - accuracy: 0.6011 - val_loss: 0.2282 - val_accuracy: 0.6211\n",
      "Epoch 5/10\n",
      "3750/3750 [==============================] - 119s 32ms/step - loss: 0.2309 - accuracy: 0.6148 - val_loss: 0.2204 - val_accuracy: 0.6374\n",
      "Epoch 6/10\n",
      "3750/3750 [==============================] - 122s 32ms/step - loss: 0.2229 - accuracy: 0.6362 - val_loss: 0.2112 - val_accuracy: 0.6706\n",
      "Epoch 7/10\n",
      "3750/3750 [==============================] - 121s 32ms/step - loss: 0.2100 - accuracy: 0.6727 - val_loss: 0.1881 - val_accuracy: 0.7216\n",
      "Epoch 8/10\n",
      "3750/3750 [==============================] - 125s 33ms/step - loss: 0.1948 - accuracy: 0.7055 - val_loss: 0.1708 - val_accuracy: 0.7565\n",
      "Epoch 9/10\n",
      "3750/3750 [==============================] - 113s 30ms/step - loss: 0.1804 - accuracy: 0.7332 - val_loss: 0.1538 - val_accuracy: 0.7878\n",
      "Epoch 10/10\n",
      "3750/3750 [==============================] - 122s 32ms/step - loss: 0.1661 - accuracy: 0.7623 - val_loss: 0.1369 - val_accuracy: 0.8167\n"
     ]
    }
   ],
   "source": [
    "history = model.fit(independent, dependent, epochs=10, validation_data=(independent_test,dependent_test))"
   ]
  },
  {
   "cell_type": "code",
   "execution_count": 11,
   "metadata": {},
   "outputs": [
    {
     "data": {
      "image/png": "[encoded data removed]",
      "text/plain": [
       "<Figure size 432x288 with 1 Axes>"
      ]
     },
     "metadata": {
      "needs_background": "light"
     },
     "output_type": "display_data"
    }
   ],
   "source": [
    "import matplotlib.pyplot as plt\n",
    "plt.plot(history.history['accuracy'])\n",
    "plt.plot(history.history['val_accuracy'])\n",
    "plt.title('Model accuracy')\n",
    "plt.ylabel('Accuracy')\n",
    "plt.xlabel('Epoch')\n",
    "plt.legend(['Train', 'Test'], loc='upper left')\n",
    "plt.show()"
   ]
  },
  {
   "cell_type": "code",
   "execution_count": 12,
   "metadata": {},
   "outputs": [
    {
     "name": "stdout",
     "output_type": "stream",
     "text": [
      "team1_266                int64\n",
      "team1_103                int64\n",
      "team1_84                 int64\n",
      "team1_12                 int64\n",
      "team1_32                 int64\n",
      "                         ...  \n",
      "version_11.1.352.5559    uint8\n",
      "version_9.11.275.6613    uint8\n",
      "version_9.19.290.8808    uint8\n",
      "version_9.20.292.2452    uint8\n",
      "version_9.9.272.4950     uint8\n",
      "Length: 344, dtype: object\n"
     ]
    }
   ],
   "source": [
    "print(independent.dtypes)"
   ]
  },
  {
   "cell_type": "code",
   "execution_count": null,
   "metadata": {},
   "outputs": [],
   "source": []
  },
  {
   "cell_type": "code",
   "execution_count": null,
   "metadata": {},
   "outputs": [],
   "source": []
  },
  {
   "cell_type": "code",
   "execution_count": null,
   "metadata": {},
   "outputs": [],
   "source": []
  }
 ],
 "metadata": {
  "kernelspec": {
   "display_name": "Python 3 (ipykernel)",
   "language": "python",
   "name": "python3"
  },
  "language_info": {
   "codemirror_mode": {
    "name": "ipython",
    "version": 3
   },
   "file_extension": ".py",
   "mimetype": "text/x-python",
   "name": "python",
   "nbconvert_exporter": "python",
   "pygments_lexer": "ipython3",
   "version": "3.7.11"
  }
 },
 "nbformat": 4,
 "nbformat_minor": 4
}
