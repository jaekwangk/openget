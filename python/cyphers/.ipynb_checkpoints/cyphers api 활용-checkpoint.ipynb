{
 "cells": [
  {
   "cell_type": "code",
   "execution_count": 95,
   "id": "1e026e9b",
   "metadata": {},
   "outputs": [],
   "source": [
    "import requests\n",
    "import json\n",
    "import pandas as pd\n",
    "import time\n",
    "from dateutil.parser import parse\n",
    "from sklearn.metrics import accuracy_score\n",
    "from sklearn.preprocessing import LabelEncoder"
   ]
  },
  {
   "cell_type": "code",
   "execution_count": 154,
   "id": "1c395d74",
   "metadata": {},
   "outputs": [],
   "source": [
    "apikey = 'X1o3cmgN7nsBDsInu4km3XtlPD051oPC'\n",
    "nickname = '포뇨의브루스'\n",
    "wordType = 'matche'\n",
    "main_url = 'https://api.neople.co.kr/cy/'\n",
    "player_url = 'https://api.neople.co.kr/cy/players/'\n",
    "matches_url = 'https://api.neople.co.kr/cy/matches/'\n",
    "api = main_url+'players?nickname='+nickname+'&wordType='+wordType+'&apikey='+apikey\n",
    "playerdata = requests.get(api)\n",
    "playerId = playerdata.json()['rows'][0]['playerId']\n",
    "train = pd.read_csv('X_train.csv')\n",
    "X_train = train\n",
    "X_train.drop(['Unnamed: 0'], axis = 1, inplace = True)\n",
    "y_train = pd.read_csv('y_train.csv')\n",
    "y_train.drop(['Unnamed: 0'], axis = 1, inplace = True)"
   ]
  },
  {
   "cell_type": "code",
   "execution_count": 82,
   "id": "fade65d9",
   "metadata": {},
   "outputs": [],
   "source": [
    "# 함수 정리\n",
    "def get_playerid(nickname):#플레이어 고유 id를 구하는 함수\n",
    "    wordType = 'matche'\n",
    "    main_url = 'https://api.neople.co.kr/cy/'\n",
    "    player_url = 'https://api.neople.co.kr/cy/players/'\n",
    "    matches_url = 'https://api.neople.co.kr/cy/matches/'\n",
    "    api = main_url+'players?nickname='+nickname+'&wordType='+wordType+'&apikey='+apikey\n",
    "    playerdata = requests.get(api)\n",
    "    playerId = playerdata.json()['rows'][0]['playerId']\n",
    "    return playerId\n",
    "\n",
    "#매치 id 가져오기\n",
    "def get_matches(playerId):\n",
    "    matchids = []\n",
    "    gameTypeId = 'rating'\n",
    "    #검색 시작일\n",
    "    startDate='2022-01-01'\n",
    "    endDate='2022-03-30'\n",
    "    limit = 1000\n",
    "    cc = player_url+playerId+'/matches?gameTypeId='+gameTypeId+'&apikey='+apikey+'&startDate='+startDate+'&endDate='+endDate\n",
    "    playdata = requests.get(cc)\n",
    "    playdata_info= playdata.json()\n",
    "    while True:\n",
    "        try:\n",
    "            for matche in playdata_info['matches']['rows']:\n",
    "                matchids.append(matche['matchId'])\n",
    "            next = playdata_info['matches']['next']\n",
    "            cc_next = player_url+playerId+'/matches?gameTypeId='+gameTypeId+'&apikey='+apikey+'&startDate='+startDate+'&endDate='+endDate+'&next='+next    \n",
    "            playdata = requests.get(cc_next)\n",
    "            playdata_info= playdata.json()\n",
    "            time.sleep(0.5)\n",
    "        except:\n",
    "            break\n",
    "    return matchids\n",
    "\n",
    "\n",
    "def win_and_lose(matchId):#매치 id를 들고와서 승리팀 조합과,패배팀 조합으로 나눠줌\n",
    "    api3=matches_url+matchId+'?&apikey='+apikey\n",
    "    game = requests.get(api3)\n",
    "    lose_team = []\n",
    "    win_team = []\n",
    "    lose_ch = []\n",
    "    win_ch = []\n",
    "    try:\n",
    "        if game.json()['teams'][0]['result'] == 'lose':\n",
    "            for lose_player in game.json()['teams'][0]['players']:\n",
    "                lose_team.append(lose_player)\n",
    "            for win_player in game.json()['teams'][1]['players']:\n",
    "                win_team.append(win_player)\n",
    "        elif game.json()['teams'][0]['result'] == 'win':\n",
    "            for lose_player in game.json()['teams'][1]['players']:\n",
    "                lose_team.append(lose_player)\n",
    "            for win_player in game.json()['teams'][0]['players']:\n",
    "                win_team.append(win_player)\n",
    "        lose_ch =[]\n",
    "        win_ch = []\n",
    "        for i in range(0,10):\n",
    "            if game.json()['players'][i]['playerId'] in lose_team:\n",
    "                lose_ch.append(game.json()['players'][i]['playInfo']['characterName'])\n",
    "            elif game.json()['players'][i]['playerId'] in win_team:\n",
    "                win_ch.append(game.json()['players'][i]['playInfo']['characterName'])\n",
    "    except:pass\n",
    "    return win_ch,lose_ch\n",
    "\n"
   ]
  },
  {
   "cell_type": "code",
   "execution_count": 140,
   "id": "3a44c582",
   "metadata": {},
   "outputs": [],
   "source": [
    "playerId = get_playerid('홍유람')\n",
    "matchids = get_matches(playerId)"
   ]
  },
  {
   "cell_type": "code",
   "execution_count": 141,
   "id": "2b5e4022",
   "metadata": {
    "scrolled": true
   },
   "outputs": [],
   "source": [
    "win = []\n",
    "lose = []\n",
    "for matchid in matchids:\n",
    "    winer_team,loser_team = win_and_lose(matchid)\n",
    "    time.sleep(0.3)\n",
    "    win.append(winer_team)\n",
    "    lose.append(loser_team)"
   ]
  },
  {
   "cell_type": "code",
   "execution_count": 142,
   "id": "3376cac2",
   "metadata": {},
   "outputs": [],
   "source": [
    "test = pd.DataFrame(win,columns=['c1','c2','c3','c4','c5'])\n",
    "test['win']=1\n",
    "test2 = pd.DataFrame(lose,columns=['c1','c2','c3','c4','c5'])\n",
    "test2['win']=0\n",
    "test3 = pd.concat([test,test2],join='inner')\n",
    "test3 = test3.reset_index(drop=True, inplace=False)\n",
    "\n",
    "test3 = test3.replace('로라스',1).replace('휴톤',2).replace('루이스',3).replace('타라',4).replace('트리비아',5).replace('카인',6).replace('레나',7).replace('드렉슬러',8).replace('도일',9).replace('토마스',10).replace('나이오비',11).replace('시바',12).replace('웨슬리',13).replace('스텔라',14).replace('앨리셔',15).replace('클레어',16).replace('다이무스',17).replace('이글',18).replace('마를렌',19).replace('샬럿',20).replace('윌라드',21).replace('레이튼',22).replace('미쉘',23).replace('린',24).replace('빅터',25).replace('카를로스',26).replace('호타루',27).replace('트릭시',28).replace('히카르도',29).replace('까미유',30).replace('자네트',31).replace('피터',32).replace('아이작',33).replace('레베카',34).replace('엘리',35).replace('마틴',36).replace('브루스',37).replace('미아',38).replace('드니스',39).replace('제레온',40).replace('루시',41).replace('티엔',42).replace('하랑',43).replace('제이',44).replace('벨져',45).replace('리첼',46).replace('리사',47).replace('릭',48).replace('제키엘',49).replace('탄야',50).replace('캐럴',51).replace('라이샌더',52).replace('디아나',53).replace('클리브',54).replace('헬레나',55).replace('에바',56).replace('론',57).replace('레오노르',58).replace('시드니',59).replace('테이',60).replace('티모시',61).replace('엘프리데',62).replace('티샤',63).replace('카로슈',64).replace('라이언',65).replace('파수꾼 A',66).replace('에밀리',67).replace('플로리안',68).replace('케니스',69).replace('이사벨',70).replace('헤나투',71).replace('루드빅',72).replace('멜빈',73)\n",
    "#라이샌더뒤로 루드빅을 넣어서 하나씩 밀어야함(임시)\n",
    "test3 = test3.fillna(0)\n",
    "#탈주자는 0으로 처리"
   ]
  },
  {
   "cell_type": "code",
   "execution_count": 143,
   "id": "011df600",
   "metadata": {},
   "outputs": [
    {
     "data": {
      "text/html": [
       "<div>\n",
       "<style scoped>\n",
       "    .dataframe tbody tr th:only-of-type {\n",
       "        vertical-align: middle;\n",
       "    }\n",
       "\n",
       "    .dataframe tbody tr th {\n",
       "        vertical-align: top;\n",
       "    }\n",
       "\n",
       "    .dataframe thead th {\n",
       "        text-align: right;\n",
       "    }\n",
       "</style>\n",
       "<table border=\"1\" class=\"dataframe\">\n",
       "  <thead>\n",
       "    <tr style=\"text-align: right;\">\n",
       "      <th></th>\n",
       "      <th>c1</th>\n",
       "      <th>c2</th>\n",
       "      <th>c3</th>\n",
       "      <th>c4</th>\n",
       "      <th>c5</th>\n",
       "      <th>win</th>\n",
       "    </tr>\n",
       "  </thead>\n",
       "  <tbody>\n",
       "    <tr>\n",
       "      <th>0</th>\n",
       "      <td>69</td>\n",
       "      <td>31</td>\n",
       "      <td>9</td>\n",
       "      <td>41</td>\n",
       "      <td>21.0</td>\n",
       "      <td>1</td>\n",
       "    </tr>\n",
       "    <tr>\n",
       "      <th>1</th>\n",
       "      <td>53</td>\n",
       "      <td>66</td>\n",
       "      <td>8</td>\n",
       "      <td>2</td>\n",
       "      <td>69.0</td>\n",
       "      <td>1</td>\n",
       "    </tr>\n",
       "    <tr>\n",
       "      <th>2</th>\n",
       "      <td>43</td>\n",
       "      <td>22</td>\n",
       "      <td>33</td>\n",
       "      <td>48</td>\n",
       "      <td>68.0</td>\n",
       "      <td>1</td>\n",
       "    </tr>\n",
       "    <tr>\n",
       "      <th>3</th>\n",
       "      <td>53</td>\n",
       "      <td>70</td>\n",
       "      <td>25</td>\n",
       "      <td>10</td>\n",
       "      <td>58.0</td>\n",
       "      <td>1</td>\n",
       "    </tr>\n",
       "    <tr>\n",
       "      <th>4</th>\n",
       "      <td>43</td>\n",
       "      <td>40</td>\n",
       "      <td>49</td>\n",
       "      <td>11</td>\n",
       "      <td>3.0</td>\n",
       "      <td>1</td>\n",
       "    </tr>\n",
       "    <tr>\n",
       "      <th>...</th>\n",
       "      <td>...</td>\n",
       "      <td>...</td>\n",
       "      <td>...</td>\n",
       "      <td>...</td>\n",
       "      <td>...</td>\n",
       "      <td>...</td>\n",
       "    </tr>\n",
       "    <tr>\n",
       "      <th>265</th>\n",
       "      <td>68</td>\n",
       "      <td>59</td>\n",
       "      <td>8</td>\n",
       "      <td>29</td>\n",
       "      <td>55.0</td>\n",
       "      <td>0</td>\n",
       "    </tr>\n",
       "    <tr>\n",
       "      <th>266</th>\n",
       "      <td>5</td>\n",
       "      <td>17</td>\n",
       "      <td>35</td>\n",
       "      <td>27</td>\n",
       "      <td>24.0</td>\n",
       "      <td>0</td>\n",
       "    </tr>\n",
       "    <tr>\n",
       "      <th>267</th>\n",
       "      <td>29</td>\n",
       "      <td>62</td>\n",
       "      <td>36</td>\n",
       "      <td>53</td>\n",
       "      <td>14.0</td>\n",
       "      <td>0</td>\n",
       "    </tr>\n",
       "    <tr>\n",
       "      <th>268</th>\n",
       "      <td>24</td>\n",
       "      <td>27</td>\n",
       "      <td>73</td>\n",
       "      <td>37</td>\n",
       "      <td>35.0</td>\n",
       "      <td>0</td>\n",
       "    </tr>\n",
       "    <tr>\n",
       "      <th>269</th>\n",
       "      <td>4</td>\n",
       "      <td>22</td>\n",
       "      <td>66</td>\n",
       "      <td>42</td>\n",
       "      <td>13.0</td>\n",
       "      <td>0</td>\n",
       "    </tr>\n",
       "  </tbody>\n",
       "</table>\n",
       "<p>270 rows × 6 columns</p>\n",
       "</div>"
      ],
      "text/plain": [
       "     c1  c2  c3  c4    c5  win\n",
       "0    69  31   9  41  21.0    1\n",
       "1    53  66   8   2  69.0    1\n",
       "2    43  22  33  48  68.0    1\n",
       "3    53  70  25  10  58.0    1\n",
       "4    43  40  49  11   3.0    1\n",
       "..   ..  ..  ..  ..   ...  ...\n",
       "265  68  59   8  29  55.0    0\n",
       "266   5  17  35  27  24.0    0\n",
       "267  29  62  36  53  14.0    0\n",
       "268  24  27  73  37  35.0    0\n",
       "269   4  22  66  42  13.0    0\n",
       "\n",
       "[270 rows x 6 columns]"
      ]
     },
     "execution_count": 143,
     "metadata": {},
     "output_type": "execute_result"
    }
   ],
   "source": [
    "test3"
   ]
  },
  {
   "cell_type": "code",
   "execution_count": 144,
   "id": "9aa70c83",
   "metadata": {},
   "outputs": [],
   "source": [
    "X_test = test3.drop('win',axis=1)\n",
    "y_test = test3.win"
   ]
  },
  {
   "cell_type": "code",
   "execution_count": 147,
   "id": "9b501c80",
   "metadata": {},
   "outputs": [
    {
     "name": "stderr",
     "output_type": "stream",
     "text": [
      "C:\\ProgramData\\Anaconda3\\envs\\bigdata0809\\lib\\site-packages\\sklearn\\preprocessing\\_label.py:98: DataConversionWarning: A column-vector y was passed when a 1d array was expected. Please change the shape of y to (n_samples, ), for example using ravel().\n",
      "  y = column_or_1d(y, warn=True)\n",
      "C:\\ProgramData\\Anaconda3\\envs\\bigdata0809\\lib\\site-packages\\sklearn\\preprocessing\\_label.py:133: DataConversionWarning: A column-vector y was passed when a 1d array was expected. Please change the shape of y to (n_samples, ), for example using ravel().\n",
      "  y = column_or_1d(y, warn=True)\n"
     ]
    }
   ],
   "source": [
    "import lightgbm as lgb\n",
    "\n",
    "lgb_clf = lgb.LGBMClassifier(max_depth = 10,min_child_samples=60,subsample=0.8)\n",
    "lgb_clf.fit(X_train, y_train)\n",
    "y_pred = lgb_clf.predict(X_test)"
   ]
  },
  {
   "cell_type": "code",
   "execution_count": 148,
   "id": "2f7c7e7a",
   "metadata": {},
   "outputs": [
    {
     "data": {
      "text/plain": [
       "0.5407407407407407"
      ]
     },
     "execution_count": 148,
     "metadata": {},
     "output_type": "execute_result"
    }
   ],
   "source": [
    "accuracy_score(y_test,y_pred)"
   ]
  },
  {
   "cell_type": "code",
   "execution_count": 150,
   "id": "6b2caa93",
   "metadata": {},
   "outputs": [],
   "source": [
    "X_train = pd.concat([X_train,X_test],join='inner')\n",
    "X_train = X_train.reset_index(drop=True, inplace=False)\n",
    "y_train = pd.concat([y_train,y_test],join='inner')\n",
    "y_train = y_train.reset_index(drop=True, inplace=False)\n",
    "X_train.to_csv('X_train.csv')\n",
    "y_train.to_csv('y_train.csv')"
   ]
  },
  {
   "cell_type": "code",
   "execution_count": 155,
   "id": "c53ced5a",
   "metadata": {},
   "outputs": [
    {
     "data": {
      "text/plain": [
       "0      1\n",
       "1      1\n",
       "2      1\n",
       "3      1\n",
       "4      1\n",
       "      ..\n",
       "265    0\n",
       "266    0\n",
       "267    0\n",
       "268    0\n",
       "269    0\n",
       "Name: win, Length: 270, dtype: int64"
      ]
     },
     "execution_count": 155,
     "metadata": {},
     "output_type": "execute_result"
    }
   ],
   "source": [
    "y_test"
   ]
  },
  {
   "cell_type": "code",
   "execution_count": 156,
   "id": "a5f8eb86",
   "metadata": {},
   "outputs": [
    {
     "data": {
      "text/html": [
       "<div>\n",
       "<style scoped>\n",
       "    .dataframe tbody tr th:only-of-type {\n",
       "        vertical-align: middle;\n",
       "    }\n",
       "\n",
       "    .dataframe tbody tr th {\n",
       "        vertical-align: top;\n",
       "    }\n",
       "\n",
       "    .dataframe thead th {\n",
       "        text-align: right;\n",
       "    }\n",
       "</style>\n",
       "<table border=\"1\" class=\"dataframe\">\n",
       "  <thead>\n",
       "    <tr style=\"text-align: right;\">\n",
       "      <th></th>\n",
       "    </tr>\n",
       "  </thead>\n",
       "  <tbody>\n",
       "    <tr>\n",
       "      <th>0</th>\n",
       "    </tr>\n",
       "    <tr>\n",
       "      <th>1</th>\n",
       "    </tr>\n",
       "    <tr>\n",
       "      <th>2</th>\n",
       "    </tr>\n",
       "    <tr>\n",
       "      <th>3</th>\n",
       "    </tr>\n",
       "    <tr>\n",
       "      <th>4</th>\n",
       "    </tr>\n",
       "    <tr>\n",
       "      <th>...</th>\n",
       "    </tr>\n",
       "    <tr>\n",
       "      <th>933</th>\n",
       "    </tr>\n",
       "    <tr>\n",
       "      <th>934</th>\n",
       "    </tr>\n",
       "    <tr>\n",
       "      <th>935</th>\n",
       "    </tr>\n",
       "    <tr>\n",
       "      <th>936</th>\n",
       "    </tr>\n",
       "    <tr>\n",
       "      <th>937</th>\n",
       "    </tr>\n",
       "  </tbody>\n",
       "</table>\n",
       "<p>938 rows × 0 columns</p>\n",
       "</div>"
      ],
      "text/plain": [
       "Empty DataFrame\n",
       "Columns: []\n",
       "Index: [0, 1, 2, 3, 4, 5, 6, 7, 8, 9, 10, 11, 12, 13, 14, 15, 16, 17, 18, 19, 20, 21, 22, 23, 24, 25, 26, 27, 28, 29, 30, 31, 32, 33, 34, 35, 36, 37, 38, 39, 40, 41, 42, 43, 44, 45, 46, 47, 48, 49, 50, 51, 52, 53, 54, 55, 56, 57, 58, 59, 60, 61, 62, 63, 64, 65, 66, 67, 68, 69, 70, 71, 72, 73, 74, 75, 76, 77, 78, 79, 80, 81, 82, 83, 84, 85, 86, 87, 88, 89, 90, 91, 92, 93, 94, 95, 96, 97, 98, 99, ...]\n",
       "\n",
       "[938 rows x 0 columns]"
      ]
     },
     "execution_count": 156,
     "metadata": {},
     "output_type": "execute_result"
    }
   ],
   "source": [
    "y_train"
   ]
  },
  {
   "cell_type": "code",
   "execution_count": null,
   "id": "95dac7e3",
   "metadata": {},
   "outputs": [],
   "source": []
  }
 ],
 "metadata": {
  "kernelspec": {
   "display_name": "Python 3 (ipykernel)",
   "language": "python",
   "name": "python3"
  },
  "language_info": {
   "codemirror_mode": {
    "name": "ipython",
    "version": 3
   },
   "file_extension": ".py",
   "mimetype": "text/x-python",
   "name": "python",
   "nbconvert_exporter": "python",
   "pygments_lexer": "ipython3",
   "version": "3.7.11"
  }
 },
 "nbformat": 4,
 "nbformat_minor": 5
}
