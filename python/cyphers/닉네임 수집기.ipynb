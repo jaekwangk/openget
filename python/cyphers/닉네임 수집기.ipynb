{
 "cells": [
  {
   "cell_type": "code",
   "execution_count": 231,
   "id": "bc2f5d58",
   "metadata": {},
   "outputs": [],
   "source": [
    "from bs4 import BeautifulSoup\n",
    "import requests\n",
    "import re\n",
    "import pandas as pd"
   ]
  },
  {
   "cell_type": "code",
   "execution_count": 240,
   "id": "8eda0b8c",
   "metadata": {},
   "outputs": [],
   "source": [
    "names = []\n",
    "#range 검색할 페이지 범위 1부터 200전까지\n",
    "for i in range(101,105):\n",
    "    rank = requests.get('https://cyphers.nexon.com/cyphers/article/ranking/total/20/{0}'.format(i))\n",
    "    rank =rank.text\n",
    "    soup1 = BeautifulSoup(rank,\"html.parser\")\n",
    "    a = soup1.find_all(class_='non_list')\n",
    "    #non_list라는 태그가 존재할경우 반복문을 끝낸다(없는 페이지기 때문)\n",
    "    if len(a) > 0:\n",
    "        break\n",
    "    soup1 = soup1.findAll(target=\"_blank\")\n",
    "    for i in soup1:\n",
    "            names.append(i.text)#.text로 태그부분 제거\n",
    "#들어가면 안되는 요소\n",
    "trash = ['회사소개','넥슨PC방','오픈 API','']\n",
    "#trash부분을 삭제\n",
    "names = [i for i in names if i not in trash]\n",
    "# 위식가 밑식은 동일하다\n",
    "# for i in names:\n",
    "#     if i not in trash:\n",
    "#         names.append(i)\n",
    "pd.DataFrame(names).to_csv('nickname.csv',index=False, encoding=\"utf-8-sig\")\n",
    "pd.DataFrame(names)"
   ]
  }
 ],
 "metadata": {
  "kernelspec": {
   "display_name": "Python 3 (ipykernel)",
   "language": "python",
   "name": "python3"
  },
  "language_info": {
   "codemirror_mode": {
    "name": "ipython",
    "version": 3
   },
   "file_extension": ".py",
   "mimetype": "text/x-python",
   "name": "python",
   "nbconvert_exporter": "python",
   "pygments_lexer": "ipython3",
   "version": "3.7.11"
  }
 },
 "nbformat": 4,
 "nbformat_minor": 5
}
