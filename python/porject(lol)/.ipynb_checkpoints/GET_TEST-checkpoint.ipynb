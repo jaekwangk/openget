{
 "cells": [
  {
   "cell_type": "code",
   "execution_count": 28,
   "id": "45d26e49",
   "metadata": {},
   "outputs": [],
   "source": [
    "import json\n",
    "import pandas as pd"
   ]
  },
  {
   "cell_type": "code",
   "execution_count": 38,
   "id": "27797917",
   "metadata": {},
   "outputs": [
    {
     "name": "stdout",
     "output_type": "stream",
     "text": [
      " * Serving Flask app \"__main__\" (lazy loading)\n",
      " * Environment: production\n",
      "   WARNING: This is a development server. Do not use it in a production deployment.\n",
      "   Use a production WSGI server instead.\n",
      " * Debug mode: off\n"
     ]
    },
    {
     "name": "stderr",
     "output_type": "stream",
     "text": [
      " * Running on http://127.0.0.1:5000/ (Press CTRL+C to quit)\n",
      "127.0.0.1 - - [14/Jan/2022 15:44:57] \"\u001b[32mGET / HTTP/1.1\u001b[0m\" 302 -\n"
     ]
    }
   ],
   "source": [
    "from flask import Flask, request, jsonify, redirect\n",
    "\n",
    "app = Flask(__name__)\n",
    "\n",
    "@app.route('/')\n",
    "def main():\n",
    "    pd.Series([\"Zac\",\"Lucian\",\"Vladimir\"]).to_json()#이게 연산 끝난 데이터라 가정\n",
    "    json_get =  json.loads('{\"0\":\"Zac\",\"1\":\"Lucian\",\"2\":\"Vladimir\"}')\n",
    "    url = 'http://www.naver.com?0={0}&1={1}&2={2}'.format(json_get['0'],json_get['1'],json_get['2'])\n",
    "    return redirect(url)\n",
    "\n",
    "if __name__== \"__main__\":\n",
    "    app.run()"
   ]
  }
 ],
 "metadata": {
  "kernelspec": {
   "display_name": "Python 3",
   "language": "python",
   "name": "python3"
  },
  "language_info": {
   "codemirror_mode": {
    "name": "ipython",
    "version": 3
   },
   "file_extension": ".py",
   "mimetype": "text/x-python",
   "name": "python",
   "nbconvert_exporter": "python",
   "pygments_lexer": "ipython3",
   "version": "3.8.8"
  }
 },
 "nbformat": 4,
 "nbformat_minor": 5
}
