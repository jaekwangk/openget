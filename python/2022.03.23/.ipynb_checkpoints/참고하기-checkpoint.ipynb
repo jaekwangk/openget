{
 "cells": [
  {
   "cell_type": "code",
   "execution_count": 23,
   "id": "22ef8cd0",
   "metadata": {},
   "outputs": [],
   "source": [
    "import pandas as pd\n",
    "import numpy as np\n",
    "#시각화\n",
    "import matplotlib.pyplot as plt\n",
    "#트레인 스플릿\n",
    "from sklearn.model_selection import train_test_split\n",
    "#알고리즘 불러오기\n",
    "from sklearn.tree import DecisionTreeClassifier\n",
    "from sklearn.ensemble import RandomForestClassifier\n",
    "from sklearn.linear_model import LogisticRegression\n",
    "from sklearn.metrics import accuracy_score as acc_sc\n",
    "\n",
    "# 사이킷런의 정확도, 정밀도, 재현율, 오차행렬을 계산하는 API 호출\n",
    "from sklearn.metrics import accuracy_score, precision_score, recall_score, confusion_matrix"
   ]
  },
  {
   "cell_type": "code",
   "execution_count": 24,
   "id": "7015f27d",
   "metadata": {},
   "outputs": [],
   "source": [
    "#데이터셋 불러오기\n",
    "train = pd.read_csv('data/train.csv')\n",
    "train.drop('id', inplace = True, axis=1)\n",
    "test = pd.read_csv('data/test.csv')\n",
    "test.drop('id', inplace = True, axis=1)\n",
    "sample_submission = pd.read_csv('data/sample_submission.csv')"
   ]
  },
  {
   "cell_type": "code",
   "execution_count": 25,
   "id": "18a217a1",
   "metadata": {
    "scrolled": true
   },
   "outputs": [
    {
     "name": "stdout",
     "output_type": "stream",
     "text": [
      "<class 'pandas.core.frame.DataFrame'>\n",
      "RangeIndex: 1253 entries, 0 to 1252\n",
      "Data columns (total 10 columns):\n",
      " #   Column          Non-Null Count  Dtype  \n",
      "---  ------          --------------  -----  \n",
      " 0   id              1253 non-null   int64  \n",
      " 1   Gender          1253 non-null   int32  \n",
      " 2   Lenght          1253 non-null   float64\n",
      " 3   Diameter        1253 non-null   float64\n",
      " 4   Height          1253 non-null   float64\n",
      " 5   Whole Weight    1253 non-null   float64\n",
      " 6   Shucked Weight  1253 non-null   float64\n",
      " 7   Viscra Weight   1253 non-null   float64\n",
      " 8   Shell Weight    1253 non-null   float64\n",
      " 9   Target          1253 non-null   int64  \n",
      "dtypes: float64(7), int32(1), int64(2)\n",
      "memory usage: 93.1 KB\n",
      "None\n"
     ]
    }
   ],
   "source": [
    "#정보 검색\n",
    "print(main_df.info())"
   ]
  },
  {
   "cell_type": "code",
   "execution_count": 4,
   "id": "9335ae72",
   "metadata": {},
   "outputs": [
    {
     "data": {
      "text/html": [
       "<div>\n",
       "<style scoped>\n",
       "    .dataframe tbody tr th:only-of-type {\n",
       "        vertical-align: middle;\n",
       "    }\n",
       "\n",
       "    .dataframe tbody tr th {\n",
       "        vertical-align: top;\n",
       "    }\n",
       "\n",
       "    .dataframe thead th {\n",
       "        text-align: right;\n",
       "    }\n",
       "</style>\n",
       "<table border=\"1\" class=\"dataframe\">\n",
       "  <thead>\n",
       "    <tr style=\"text-align: right;\">\n",
       "      <th></th>\n",
       "      <th>Gender</th>\n",
       "    </tr>\n",
       "  </thead>\n",
       "  <tbody>\n",
       "    <tr>\n",
       "      <th>0</th>\n",
       "      <td>M</td>\n",
       "    </tr>\n",
       "    <tr>\n",
       "      <th>1</th>\n",
       "      <td>I</td>\n",
       "    </tr>\n",
       "    <tr>\n",
       "      <th>2</th>\n",
       "      <td>I</td>\n",
       "    </tr>\n",
       "    <tr>\n",
       "      <th>3</th>\n",
       "      <td>M</td>\n",
       "    </tr>\n",
       "    <tr>\n",
       "      <th>4</th>\n",
       "      <td>I</td>\n",
       "    </tr>\n",
       "    <tr>\n",
       "      <th>...</th>\n",
       "      <td>...</td>\n",
       "    </tr>\n",
       "    <tr>\n",
       "      <th>1248</th>\n",
       "      <td>I</td>\n",
       "    </tr>\n",
       "    <tr>\n",
       "      <th>1249</th>\n",
       "      <td>I</td>\n",
       "    </tr>\n",
       "    <tr>\n",
       "      <th>1250</th>\n",
       "      <td>F</td>\n",
       "    </tr>\n",
       "    <tr>\n",
       "      <th>1251</th>\n",
       "      <td>F</td>\n",
       "    </tr>\n",
       "    <tr>\n",
       "      <th>1252</th>\n",
       "      <td>F</td>\n",
       "    </tr>\n",
       "  </tbody>\n",
       "</table>\n",
       "<p>1253 rows × 1 columns</p>\n",
       "</div>"
      ],
      "text/plain": [
       "     Gender\n",
       "0         M\n",
       "1         I\n",
       "2         I\n",
       "3         M\n",
       "4         I\n",
       "...     ...\n",
       "1248      I\n",
       "1249      I\n",
       "1250      F\n",
       "1251      F\n",
       "1252      F\n",
       "\n",
       "[1253 rows x 1 columns]"
      ]
     },
     "execution_count": 4,
     "metadata": {},
     "output_type": "execute_result"
    }
   ],
   "source": [
    "main_df.select_dtypes(include='object')"
   ]
  },
  {
   "cell_type": "code",
   "execution_count": 5,
   "id": "129cd5e7",
   "metadata": {},
   "outputs": [
    {
     "name": "stdout",
     "output_type": "stream",
     "text": [
      "\n",
      "성별의 값의 분포:\n",
      " M    469\n",
      "I    404\n",
      "F    380\n",
      "Name: Gender, dtype: int64\n",
      "\n",
      "나이의 값의 분포:\n",
      " 10    202\n",
      "9     200\n",
      "8     174\n",
      "11    141\n",
      "7     107\n",
      "6      88\n",
      "12     79\n",
      "13     62\n",
      "14     42\n",
      "5      37\n",
      "15     26\n",
      "16     21\n",
      "4      14\n",
      "17     13\n",
      "18     12\n",
      "20     11\n",
      "19      8\n",
      "3       5\n",
      "21      5\n",
      "23      3\n",
      "22      2\n",
      "29      1\n",
      "Name: Target, dtype: int64\n"
     ]
    }
   ],
   "source": [
    "#개인값 검색\n",
    "print('\\n성별의 값의 분포:\\n',main_df.Gender.value_counts())\n",
    "#해당값은 숫자형으로 변경이 필요3.\n",
    "print('\\n나이의 값의 분포:\\n',main_df.Target.value_counts())"
   ]
  },
  {
   "cell_type": "code",
   "execution_count": 6,
   "id": "d535e87e",
   "metadata": {},
   "outputs": [],
   "source": [
    "from sklearn.preprocessing import LabelEncoder\n",
    "\n",
    "# label_encoding 객체 생성\n",
    "le_encoding = LabelEncoder()\n",
    "encoded = le_encoding.fit(main_df['Gender'])\n",
    "main_df['Gender'] = encoded.transform(main_df['Gender'])\n",
    "\n"
   ]
  },
  {
   "cell_type": "code",
   "execution_count": 7,
   "id": "c0931a49",
   "metadata": {},
   "outputs": [
    {
     "data": {
      "text/plain": [
       "0       2\n",
       "1       1\n",
       "2       1\n",
       "3       2\n",
       "4       1\n",
       "       ..\n",
       "1248    1\n",
       "1249    1\n",
       "1250    0\n",
       "1251    0\n",
       "1252    0\n",
       "Name: Gender, Length: 1253, dtype: int32"
      ]
     },
     "execution_count": 7,
     "metadata": {},
     "output_type": "execute_result"
    }
   ],
   "source": [
    "main_df['Gender']"
   ]
  },
  {
   "cell_type": "code",
   "execution_count": 8,
   "id": "62ceea92",
   "metadata": {},
   "outputs": [],
   "source": [
    "X_train = main_df.drop(['Target'],axis=1)#features 정의\n",
    "y_train = main_df['Target'] "
   ]
  },
  {
   "cell_type": "code",
   "execution_count": null,
   "id": "6868d417",
   "metadata": {},
   "outputs": [],
   "source": [
    "plot_cols_list = train.columns[1:]\n",
    "print(plot_cols_list)\n",
    "\n",
    "train[plot_cols_list].hist(figsize=(14,7), grid = True, layout = (2,4), bins = 20)\n",
    "plt.show()"
   ]
  },
  {
   "cell_type": "code",
   "execution_count": 9,
   "id": "911c6f79",
   "metadata": {},
   "outputs": [],
   "source": [
    "#Test셋 불러오기\n",
    "test_df = pd.read_csv('data/test.csv')\n",
    "test_df.head(3)\n",
    "\n",
    "from sklearn.preprocessing import LabelEncoder\n",
    "\n",
    "# label_encoding 객체 생성\n",
    "le_encoding = LabelEncoder()\n",
    "encoded = le_encoding.fit(test_df['Gender'])\n",
    "test_df['Gender'] = encoded.transform(test_df['Gender'])\n",
    "\n",
    "X_test = test_df\n"
   ]
  },
  {
   "cell_type": "code",
   "execution_count": 10,
   "id": "813fd616",
   "metadata": {},
   "outputs": [
    {
     "name": "stdout",
     "output_type": "stream",
     "text": [
      "<class 'pandas.core.frame.DataFrame'>\n",
      "RangeIndex: 2924 entries, 0 to 2923\n",
      "Data columns (total 9 columns):\n",
      " #   Column          Non-Null Count  Dtype  \n",
      "---  ------          --------------  -----  \n",
      " 0   id              2924 non-null   int64  \n",
      " 1   Gender          2924 non-null   int32  \n",
      " 2   Lenght          2924 non-null   float64\n",
      " 3   Diameter        2924 non-null   float64\n",
      " 4   Height          2924 non-null   float64\n",
      " 5   Whole Weight    2924 non-null   float64\n",
      " 6   Shucked Weight  2924 non-null   float64\n",
      " 7   Viscra Weight   2924 non-null   float64\n",
      " 8   Shell Weight    2924 non-null   float64\n",
      "dtypes: float64(7), int32(1), int64(1)\n",
      "memory usage: 194.3 KB\n",
      "None\n"
     ]
    }
   ],
   "source": [
    "print(X_test.info())"
   ]
  },
  {
   "cell_type": "code",
   "execution_count": 11,
   "id": "be6a83b8",
   "metadata": {},
   "outputs": [
    {
     "name": "stdout",
     "output_type": "stream",
     "text": [
      "        id  Gender  Lenght  Diameter  Height  Whole Weight  Shucked Weight  \\\n",
      "0        1       2   0.605     0.470   0.115        1.1140          0.3925   \n",
      "1        2       1   0.430     0.315   0.095        0.3780          0.1750   \n",
      "2        3       1   0.580     0.490   0.195        1.3165          0.5305   \n",
      "3        4       2   0.535     0.405   0.175        1.2705          0.5480   \n",
      "4        5       1   0.310     0.235   0.090        0.1270          0.0480   \n",
      "...    ...     ...     ...       ...     ...           ...             ...   \n",
      "1248  1249       1   0.190     0.145   0.040        0.0380          0.0165   \n",
      "1249  1250       1   0.395     0.310   0.085        0.3170          0.1530   \n",
      "1250  1251       0   0.525     0.410   0.115        0.7745          0.4160   \n",
      "1251  1252       0   0.445     0.335   0.110        0.4355          0.2025   \n",
      "1252  1253       0   0.750     0.550   0.195        1.8325          0.8300   \n",
      "\n",
      "      Viscra Weight  Shell Weight  \n",
      "0            0.2910        0.3100  \n",
      "1            0.0800        0.1045  \n",
      "2            0.2540        0.4100  \n",
      "3            0.3265        0.3370  \n",
      "4            0.0310        0.0400  \n",
      "...             ...           ...  \n",
      "1248         0.0065        0.0150  \n",
      "1249         0.0505        0.0935  \n",
      "1250         0.1630        0.1800  \n",
      "1251         0.1095        0.1195  \n",
      "1252         0.3660        0.4400  \n",
      "\n",
      "[1253 rows x 9 columns]\n",
      "        id  Gender  Lenght  Diameter  Height  Whole Weight  Shucked Weight  \\\n",
      "0        1       0   0.595     0.470   0.155        1.1210          0.4515   \n",
      "1        2       2   0.580     0.450   0.150        0.9270          0.2760   \n",
      "2        3       1   0.260     0.205   0.070        0.0970          0.0415   \n",
      "3        4       2   0.590     0.460   0.130        1.1020          0.4550   \n",
      "4        5       0   0.595     0.465   0.140        1.1130          0.5175   \n",
      "...    ...     ...     ...       ...     ...           ...             ...   \n",
      "2919  2920       1   0.170     0.105   0.035        0.0340          0.0120   \n",
      "2920  2921       1   0.435     0.345   0.115        0.4180          0.2220   \n",
      "2921  2922       1   0.570     0.450   0.135        0.7940          0.3815   \n",
      "2922  2923       1   0.460     0.350   0.120        0.4885          0.1930   \n",
      "2923  2924       0   0.565     0.440   0.160        0.9150          0.3540   \n",
      "\n",
      "      Viscra Weight  Shell Weight  \n",
      "0            0.1780        0.1550  \n",
      "1            0.1815        0.3600  \n",
      "2            0.0190        0.0305  \n",
      "3            0.2055        0.3300  \n",
      "4            0.2440        0.3050  \n",
      "...             ...           ...  \n",
      "2919         0.0085        0.0050  \n",
      "2920         0.0735        0.1060  \n",
      "2921         0.1415        0.2450  \n",
      "2922         0.1050        0.1550  \n",
      "2923         0.1935        0.3200  \n",
      "\n",
      "[2924 rows x 9 columns]\n"
     ]
    }
   ],
   "source": [
    "print(X_train)\n",
    "print(X_test)"
   ]
  },
  {
   "cell_type": "code",
   "execution_count": 12,
   "id": "ce3f913d",
   "metadata": {},
   "outputs": [
    {
     "name": "stderr",
     "output_type": "stream",
     "text": [
      "C:\\ProgramData\\Anaconda3\\envs\\bigdata0809\\lib\\site-packages\\sklearn\\linear_model\\_logistic.py:818: ConvergenceWarning: lbfgs failed to converge (status=1):\n",
      "STOP: TOTAL NO. of ITERATIONS REACHED LIMIT.\n",
      "\n",
      "Increase the number of iterations (max_iter) or scale the data as shown in:\n",
      "    https://scikit-learn.org/stable/modules/preprocessing.html\n",
      "Please also refer to the documentation for alternative solver options:\n",
      "    https://scikit-learn.org/stable/modules/linear_model.html#logistic-regression\n",
      "  extra_warning_msg=_LOGISTIC_SOLVER_CONVERGENCE_MSG,\n"
     ]
    }
   ],
   "source": [
    "dt_clf = DecisionTreeClassifier()\n",
    "rf_clf = RandomForestClassifier()\n",
    "lr_clf = LogisticRegression()\n",
    "\n",
    "\n",
    "## 학습 fitting\n",
    "# dt_clf\n",
    "dt_clf.fit(X_train,y_train)\n",
    "dt_pred = dt_clf.predict(X_test)\n",
    "\n",
    "\n",
    "# rf_clf\n",
    "rf_clf.fit(X_train,y_train)\n",
    "rf_pred = rf_clf.predict(X_test)\n",
    "\n",
    "# lr_clf\n",
    "lr_clf.fit(X_train,y_train)\n",
    "lr_pred = lr_clf.predict(X_test)\n",
    "#정확도가 너무낮다"
   ]
  },
  {
   "cell_type": "code",
   "execution_count": 13,
   "id": "d1e7402e",
   "metadata": {},
   "outputs": [
    {
     "data": {
      "text/html": [
       "<div>\n",
       "<style scoped>\n",
       "    .dataframe tbody tr th:only-of-type {\n",
       "        vertical-align: middle;\n",
       "    }\n",
       "\n",
       "    .dataframe tbody tr th {\n",
       "        vertical-align: top;\n",
       "    }\n",
       "\n",
       "    .dataframe thead th {\n",
       "        text-align: right;\n",
       "    }\n",
       "</style>\n",
       "<table border=\"1\" class=\"dataframe\">\n",
       "  <thead>\n",
       "    <tr style=\"text-align: right;\">\n",
       "      <th></th>\n",
       "      <th>id</th>\n",
       "      <th>Target</th>\n",
       "    </tr>\n",
       "  </thead>\n",
       "  <tbody>\n",
       "    <tr>\n",
       "      <th>0</th>\n",
       "      <td>1</td>\n",
       "      <td>0</td>\n",
       "    </tr>\n",
       "    <tr>\n",
       "      <th>1</th>\n",
       "      <td>2</td>\n",
       "      <td>0</td>\n",
       "    </tr>\n",
       "    <tr>\n",
       "      <th>2</th>\n",
       "      <td>3</td>\n",
       "      <td>0</td>\n",
       "    </tr>\n",
       "    <tr>\n",
       "      <th>3</th>\n",
       "      <td>4</td>\n",
       "      <td>0</td>\n",
       "    </tr>\n",
       "    <tr>\n",
       "      <th>4</th>\n",
       "      <td>5</td>\n",
       "      <td>0</td>\n",
       "    </tr>\n",
       "  </tbody>\n",
       "</table>\n",
       "</div>"
      ],
      "text/plain": [
       "   id  Target\n",
       "0   1       0\n",
       "1   2       0\n",
       "2   3       0\n",
       "3   4       0\n",
       "4   5       0"
      ]
     },
     "execution_count": 13,
     "metadata": {},
     "output_type": "execute_result"
    }
   ],
   "source": [
    "submission = pd.read_csv('data/sample_submission.csv')\n",
    "submission.head()"
   ]
  },
  {
   "cell_type": "code",
   "execution_count": 14,
   "id": "b393ef7b",
   "metadata": {},
   "outputs": [],
   "source": [
    "submission['Target'] = dt_pred\n",
    "submission['Target2'] = dt_pred\n",
    "submission['Target3'] = dt_pred"
   ]
  },
  {
   "cell_type": "code",
   "execution_count": 15,
   "id": "1e391db6",
   "metadata": {},
   "outputs": [
    {
     "data": {
      "text/html": [
       "<div>\n",
       "<style scoped>\n",
       "    .dataframe tbody tr th:only-of-type {\n",
       "        vertical-align: middle;\n",
       "    }\n",
       "\n",
       "    .dataframe tbody tr th {\n",
       "        vertical-align: top;\n",
       "    }\n",
       "\n",
       "    .dataframe thead th {\n",
       "        text-align: right;\n",
       "    }\n",
       "</style>\n",
       "<table border=\"1\" class=\"dataframe\">\n",
       "  <thead>\n",
       "    <tr style=\"text-align: right;\">\n",
       "      <th></th>\n",
       "      <th>id</th>\n",
       "      <th>Target</th>\n",
       "      <th>Target2</th>\n",
       "      <th>Target3</th>\n",
       "    </tr>\n",
       "  </thead>\n",
       "  <tbody>\n",
       "    <tr>\n",
       "      <th>0</th>\n",
       "      <td>1</td>\n",
       "      <td>9</td>\n",
       "      <td>9</td>\n",
       "      <td>9</td>\n",
       "    </tr>\n",
       "    <tr>\n",
       "      <th>1</th>\n",
       "      <td>2</td>\n",
       "      <td>13</td>\n",
       "      <td>13</td>\n",
       "      <td>13</td>\n",
       "    </tr>\n",
       "    <tr>\n",
       "      <th>2</th>\n",
       "      <td>3</td>\n",
       "      <td>5</td>\n",
       "      <td>5</td>\n",
       "      <td>5</td>\n",
       "    </tr>\n",
       "    <tr>\n",
       "      <th>3</th>\n",
       "      <td>4</td>\n",
       "      <td>11</td>\n",
       "      <td>11</td>\n",
       "      <td>11</td>\n",
       "    </tr>\n",
       "    <tr>\n",
       "      <th>4</th>\n",
       "      <td>5</td>\n",
       "      <td>12</td>\n",
       "      <td>12</td>\n",
       "      <td>12</td>\n",
       "    </tr>\n",
       "    <tr>\n",
       "      <th>...</th>\n",
       "      <td>...</td>\n",
       "      <td>...</td>\n",
       "      <td>...</td>\n",
       "      <td>...</td>\n",
       "    </tr>\n",
       "    <tr>\n",
       "      <th>2919</th>\n",
       "      <td>2920</td>\n",
       "      <td>4</td>\n",
       "      <td>4</td>\n",
       "      <td>4</td>\n",
       "    </tr>\n",
       "    <tr>\n",
       "      <th>2920</th>\n",
       "      <td>2921</td>\n",
       "      <td>8</td>\n",
       "      <td>8</td>\n",
       "      <td>8</td>\n",
       "    </tr>\n",
       "    <tr>\n",
       "      <th>2921</th>\n",
       "      <td>2922</td>\n",
       "      <td>11</td>\n",
       "      <td>11</td>\n",
       "      <td>11</td>\n",
       "    </tr>\n",
       "    <tr>\n",
       "      <th>2922</th>\n",
       "      <td>2923</td>\n",
       "      <td>10</td>\n",
       "      <td>10</td>\n",
       "      <td>10</td>\n",
       "    </tr>\n",
       "    <tr>\n",
       "      <th>2923</th>\n",
       "      <td>2924</td>\n",
       "      <td>14</td>\n",
       "      <td>14</td>\n",
       "      <td>14</td>\n",
       "    </tr>\n",
       "  </tbody>\n",
       "</table>\n",
       "<p>2924 rows × 4 columns</p>\n",
       "</div>"
      ],
      "text/plain": [
       "        id  Target  Target2  Target3\n",
       "0        1       9        9        9\n",
       "1        2      13       13       13\n",
       "2        3       5        5        5\n",
       "3        4      11       11       11\n",
       "4        5      12       12       12\n",
       "...    ...     ...      ...      ...\n",
       "2919  2920       4        4        4\n",
       "2920  2921       8        8        8\n",
       "2921  2922      11       11       11\n",
       "2922  2923      10       10       10\n",
       "2923  2924      14       14       14\n",
       "\n",
       "[2924 rows x 4 columns]"
      ]
     },
     "execution_count": 15,
     "metadata": {},
     "output_type": "execute_result"
    }
   ],
   "source": [
    "submission"
   ]
  },
  {
   "cell_type": "code",
   "execution_count": null,
   "id": "30af12c4",
   "metadata": {},
   "outputs": [],
   "source": []
  },
  {
   "cell_type": "code",
   "execution_count": null,
   "id": "563604d0",
   "metadata": {},
   "outputs": [],
   "source": []
  }
 ],
 "metadata": {
  "kernelspec": {
   "display_name": "Python 3 (ipykernel)",
   "language": "python",
   "name": "python3"
  },
  "language_info": {
   "codemirror_mode": {
    "name": "ipython",
    "version": 3
   },
   "file_extension": ".py",
   "mimetype": "text/x-python",
   "name": "python",
   "nbconvert_exporter": "python",
   "pygments_lexer": "ipython3",
   "version": "3.7.11"
  }
 },
 "nbformat": 4,
 "nbformat_minor": 5
}
