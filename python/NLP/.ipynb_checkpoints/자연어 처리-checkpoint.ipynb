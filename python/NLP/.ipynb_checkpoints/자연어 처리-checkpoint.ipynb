{
 "cells": [
  {
   "cell_type": "markdown",
   "id": "30cb4810",
   "metadata": {},
   "source": [
    "# 자연어 처리\n",
    "\n",
    " - 자연어는 이상용어\n",
    " - 자연어 처리는 자연어의 의미를 분석 처리하는 일\n",
    " - 텍스트 분류,감정 분석, 요약, 번역 등등등\n",
    " \n",
    " https://www.youtube.com/watch?v=2e9wnwuAVv0 참고\n"
   ]
  },
  {
   "cell_type": "markdown",
   "id": "aecf0863",
   "metadata": {},
   "source": [
    "# 텍스트 처리"
   ]
  },
  {
   "cell_type": "code",
   "execution_count": 1,
   "id": "c0f297ad",
   "metadata": {},
   "outputs": [],
   "source": [
    "s = 'No pain no gain'"
   ]
  },
  {
   "cell_type": "code",
   "execution_count": 2,
   "id": "3f48952f",
   "metadata": {},
   "outputs": [
    {
     "data": {
      "text/plain": [
       "True"
      ]
     },
     "execution_count": 2,
     "metadata": {},
     "output_type": "execute_result"
    }
   ],
   "source": [
    "#파이썬에서 지원하는 간단한 자연어 \n",
    "'pain' in s"
   ]
  },
  {
   "cell_type": "code",
   "execution_count": 3,
   "id": "2e5948cd",
   "metadata": {},
   "outputs": [
    {
     "data": {
      "text/plain": [
       "['No', 'pain', 'no', 'gain']"
      ]
     },
     "execution_count": 3,
     "metadata": {},
     "output_type": "execute_result"
    }
   ],
   "source": [
    "#스플릿\n",
    "s.split(' ')"
   ]
  },
  {
   "cell_type": "code",
   "execution_count": 4,
   "id": "649520ef",
   "metadata": {},
   "outputs": [
    {
     "data": {
      "text/plain": [
       "3"
      ]
     },
     "execution_count": 4,
     "metadata": {},
     "output_type": "execute_result"
    }
   ],
   "source": [
    "#스플릿\n",
    "s.split(' ').index('gain')"
   ]
  },
  {
   "cell_type": "code",
   "execution_count": 5,
   "id": "76f2aa55",
   "metadata": {},
   "outputs": [
    {
     "data": {
      "text/plain": [
       "'gain'"
      ]
     },
     "execution_count": 5,
     "metadata": {},
     "output_type": "execute_result"
    }
   ],
   "source": [
    "#인덱싱 접근\n",
    "s[-4:]"
   ]
  },
  {
   "cell_type": "code",
   "execution_count": 6,
   "id": "c5e294b2",
   "metadata": {},
   "outputs": [
    {
     "data": {
      "text/plain": [
       "'gain'"
      ]
     },
     "execution_count": 6,
     "metadata": {},
     "output_type": "execute_result"
    }
   ],
   "source": [
    "s.split(' ')[3]"
   ]
  },
  {
   "cell_type": "code",
   "execution_count": 7,
   "id": "bcfb2ba1",
   "metadata": {},
   "outputs": [
    {
     "data": {
      "text/plain": [
       "'on'"
      ]
     },
     "execution_count": 7,
     "metadata": {},
     "output_type": "execute_result"
    }
   ],
   "source": [
    "s.split()[2][::-1]#-1은 리버스 no를 on으로읽음"
   ]
  },
  {
   "cell_type": "markdown",
   "id": "1a10d7ba",
   "metadata": {},
   "source": [
    "- 대소문자 통합"
   ]
  },
  {
   "cell_type": "code",
   "execution_count": 8,
   "id": "b02f601b",
   "metadata": {},
   "outputs": [
    {
     "data": {
      "text/plain": [
       "'abcdefgh'"
      ]
     },
     "execution_count": 8,
     "metadata": {},
     "output_type": "execute_result"
    }
   ],
   "source": [
    "#소문자 통합\n",
    "s = 'AbcdEfgH'\n",
    "s.lower()"
   ]
  },
  {
   "cell_type": "code",
   "execution_count": 9,
   "id": "3f8c5d49",
   "metadata": {},
   "outputs": [
    {
     "data": {
      "text/plain": [
       "'ABCDEFGH'"
      ]
     },
     "execution_count": 9,
     "metadata": {},
     "output_type": "execute_result"
    }
   ],
   "source": [
    "#대문자 통합\n",
    "s.upper()"
   ]
  },
  {
   "cell_type": "markdown",
   "id": "f9a2397a",
   "metadata": {},
   "source": [
    "- 정규화"
   ]
  },
  {
   "cell_type": "code",
   "execution_count": 10,
   "id": "7c640fca",
   "metadata": {},
   "outputs": [
    {
     "data": {
      "text/plain": [
       "'i visited UK from US on 22-09-20'"
      ]
     },
     "execution_count": 10,
     "metadata": {},
     "output_type": "execute_result"
    }
   ],
   "source": [
    "s = \"i visited UK from US on 22-09-20\"#UK와 US 그리고 날짜는 통일시켜야함\n",
    "s"
   ]
  },
  {
   "cell_type": "code",
   "execution_count": 11,
   "id": "45bf0bdc",
   "metadata": {},
   "outputs": [
    {
     "data": {
      "text/plain": [
       "'i visited United Kingdom from USB on 22-092020'"
      ]
     },
     "execution_count": 11,
     "metadata": {},
     "output_type": "execute_result"
    }
   ],
   "source": [
    "new_s = s.replace(\"UK\",\"United Kingdom\").replace(\"US\",\"USB\").replace(\"-20\", \"2020\")\n",
    "new_s"
   ]
  },
  {
   "cell_type": "markdown",
   "id": "0b523e52",
   "metadata": {},
   "source": [
    "- 문장의 토큰화"
   ]
  },
  {
   "cell_type": "code",
   "execution_count": 12,
   "id": "a67c48f0",
   "metadata": {},
   "outputs": [
    {
     "name": "stdout",
     "output_type": "stream",
     "text": [
      "The world is a beautiful book. \n",
      " But of little use to him who caanno read it\n"
     ]
    },
    {
     "data": {
      "text/plain": [
       "['The world is a beautiful book. ',\n",
       " ' But of little use to him who caanno read it']"
      ]
     },
     "execution_count": 12,
     "metadata": {},
     "output_type": "execute_result"
    }
   ],
   "source": [
    "sentesces = \"The world is a beautiful book. \\n But of little use to him who caanno read it\"\n",
    "print(sentesces)\n",
    "\n",
    "tokens = [x for x in sentesces.split('\\n')]#\\n을 기준으로 두개로 나눠라\n",
    "tokens"
   ]
  },
  {
   "cell_type": "code",
   "execution_count": 13,
   "id": "7e75eaf9",
   "metadata": {},
   "outputs": [
    {
     "ename": "SyntaxError",
     "evalue": "invalid syntax (Temp/ipykernel_21124/1430883987.py, line 1)",
     "output_type": "error",
     "traceback": [
      "\u001b[1;36m  File \u001b[1;32m\"C:\\Users\\kim\\AppData\\Local\\Temp/ipykernel_21124/1430883987.py\"\u001b[1;36m, line \u001b[1;32m1\u001b[0m\n\u001b[1;33m    pip install nltk #nltk 설치\u001b[0m\n\u001b[1;37m              ^\u001b[0m\n\u001b[1;31mSyntaxError\u001b[0m\u001b[1;31m:\u001b[0m invalid syntax\n"
     ]
    }
   ],
   "source": [
    "#pip install nltk #nltk 설치\n",
    "#import nltk#nltk 불러오기\n",
    "#nltk.download('punkt')#nltk 다운로드(이거까지 해야함)"
   ]
  },
  {
   "cell_type": "code",
   "execution_count": 14,
   "id": "c00eed41",
   "metadata": {},
   "outputs": [],
   "source": [
    "from nltk.tokenize import sent_tokenize\n",
    "tokens = sent_tokenize(sentesces)"
   ]
  },
  {
   "cell_type": "code",
   "execution_count": 15,
   "id": "2e1d7800",
   "metadata": {},
   "outputs": [
    {
     "data": {
      "text/plain": [
       "['The world is a beautiful book.',\n",
       " 'But of little use to him who caanno read it']"
      ]
     },
     "execution_count": 15,
     "metadata": {},
     "output_type": "execute_result"
    }
   ],
   "source": [
    "tokens"
   ]
  },
  {
   "cell_type": "code",
   "execution_count": 20,
   "id": "0db54fb1",
   "metadata": {},
   "outputs": [
    {
     "data": {
      "text/plain": [
       "['Where', 'there', 's', 'a', 'will', 'there', 's', 'a', 'way']"
      ]
     },
     "execution_count": 20,
     "metadata": {},
     "output_type": "execute_result"
    }
   ],
   "source": [
    "from nltk.tokenize import RegexpTokenizer\n",
    "\n",
    "sentesces = 'Where there\\'s a will, there\\'s a way'\n",
    "tokenizer = RegexpTokenizer('[\\w]+')#모든문자(a-z,A-Z) 기준으로 최소 1글자 이상\n",
    "tokens = tokenizer.tokenize(sentesces)\n",
    "tokens"
   ]
  },
  {
   "cell_type": "code",
   "execution_count": null,
   "id": "b54ece66",
   "metadata": {},
   "outputs": [],
   "source": []
  }
 ],
 "metadata": {
  "kernelspec": {
   "display_name": "Python 3 (ipykernel)",
   "language": "python",
   "name": "python3"
  },
  "language_info": {
   "codemirror_mode": {
    "name": "ipython",
    "version": 3
   },
   "file_extension": ".py",
   "mimetype": "text/x-python",
   "name": "python",
   "nbconvert_exporter": "python",
   "pygments_lexer": "ipython3",
   "version": "3.7.11"
  }
 },
 "nbformat": 4,
 "nbformat_minor": 5
}
